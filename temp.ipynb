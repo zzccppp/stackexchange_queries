{
 "cells": [
  {
   "cell_type": "code",
   "execution_count": 8,
   "metadata": {},
   "outputs": [
    {
     "name": "stdout",
     "output_type": "stream",
     "text": [
      "-0.47201649638687465\n",
      "2.845339709776814\n"
     ]
    }
   ],
   "source": [
    "import numpy as np\n",
    "\n",
    "A = np.array([25, 25, 27, 44, 30, 67, 53, 53, 52, 60, 28])\n",
    "B = np.array([27, 29, 37, 56, 46, 82, 57, 80, 61, 59, 43])\n",
    "\n",
    "meanA = np.mean(A)\n",
    "meanB = np.mean(B)\n",
    "\n",
    "sa2 = np.sum((A - np.mean(A)) ** 2) / (len(A) - 1)\n",
    "sb2 = np.sum((B - np.mean(B)) ** 2) / (len(B) - 1)\n",
    "\n",
    "sp2 = (len(A) - 1) * sa2 + (len(B) - 1) * sb2 / (len(A) + len(B) - 2)\n",
    "\n",
    "t = (meanA - meanB) / np.sqrt(sp2 * (1 / len(A) + 1 / len(B)))\n",
    "\n",
    "print(t)\n",
    "\n",
    "# t distribution of 20 degrees of freedom, 0.01 significance level\n",
    "import scipy.stats as stats\n",
    "\n",
    "print(stats.t.ppf(1 - (0.01 / 2), 20))\n",
    "\n",
    "if np.abs(t) > stats.t.ppf(0.99, 20):\n",
    "    print(\"Reject null hypothesis\")"
   ]
  }
 ],
 "metadata": {
  "kernelspec": {
   "display_name": "DSA5104Proj_StackExchange-gCRbo4YC-3.9",
   "language": "python",
   "name": "python3"
  },
  "language_info": {
   "codemirror_mode": {
    "name": "ipython",
    "version": 3
   },
   "file_extension": ".py",
   "mimetype": "text/x-python",
   "name": "python",
   "nbconvert_exporter": "python",
   "pygments_lexer": "ipython3",
   "version": "3.9.13"
  }
 },
 "nbformat": 4,
 "nbformat_minor": 2
}
